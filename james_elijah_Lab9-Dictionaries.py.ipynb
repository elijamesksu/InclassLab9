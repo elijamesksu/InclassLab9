{
 "cells": [
  {
   "cell_type": "markdown",
   "metadata": {},
   "source": [
    "# Problem 1\n",
    "Create a dictionary with 5 of your favorite songs.  The key should be something like \"Song 1\" ... and the value should be the title of the song."
   ]
  },
  {
   "cell_type": "code",
   "execution_count": 3,
   "metadata": {},
   "outputs": [
    {
     "name": "stdout",
     "output_type": "stream",
     "text": [
      "{'Song 1': 'Freaks by surf curse', 'Song 2': 'Roses by chainsmokers', 'Song 3': 'first time by vance joy', 'Song 4': 'Home by edward sharpe and the magnetic zeros', 'Song 5': 'Failure by design by brand new'}\n",
      "\n"
     ]
    }
   ],
   "source": [
    "songs = {\n",
    "    \"Song 1\": \"Freaks by surf curse\",\n",
    "    \"Song 2\": \"Roses by chainsmokers\",\n",
    "    \"Song 3\": \"first time by vance joy\",\n",
    "    \"Song 4\": \"Home by edward sharpe and the magnetic zeros\",\n",
    "    \"Song 5\": \"Failure by design by brand new\"\n",
    "}\n",
    "print(songs)\n",
    "print()"
   ]
  },
  {
   "cell_type": "markdown",
   "metadata": {},
   "source": [
    "# Problem 2\n",
    "Write a __for loop__ to print the dictionary you created above in the following format: `key: value`"
   ]
  },
  {
   "cell_type": "code",
   "execution_count": 4,
   "metadata": {},
   "outputs": [
    {
     "name": "stdout",
     "output_type": "stream",
     "text": [
      "Song 1: Freaks by surf curse\n",
      "Song 2: Roses by chainsmokers\n",
      "Song 3: first time by vance joy\n",
      "Song 4: Home by edward sharpe and the magnetic zeros\n",
      "Song 5: Failure by design by brand new\n"
     ]
    }
   ],
   "source": [
    "for key, value in songs.items():\n",
    "    print(key + \": \" + value)"
   ]
  },
  {
   "cell_type": "markdown",
   "metadata": {},
   "source": [
    "# Problem 3\n",
    "Add code to the snippet below to print out all the scores in sorted order.  You may use built in python functions for sorting."
   ]
  },
  {
   "cell_type": "code",
   "execution_count": 102,
   "metadata": {},
   "outputs": [
    {
     "name": "stdout",
     "output_type": "stream",
     "text": [
      "Student 3 scored a 18 %\n",
      "Student 2 scored a 48 %\n",
      "Student 0 scored a 52 %\n",
      "Student 4 scored a 60 %\n",
      "Student 1 scored a 69 %\n"
     ]
    }
   ],
   "source": [
    "import random\n",
    "scores = {}\n",
    "\n",
    "for i in range(5):\n",
    "    scores[\"Student {}\".format(i)] = random.randint(1,100)\n",
    "\n",
    "sorted_numbers = list(scores.items())\n",
    "sorted_numbers.sort(key=lambda x: x[1])\n",
    "\n",
    "for student, score in sorted_numbers:\n",
    "    print(student, \"scored a\", score ,\"%\")"
   ]
  },
  {
   "cell_type": "markdown",
   "metadata": {},
   "source": [
    "# Problem 4\n",
    "Write a code snippet that prints only the two highest scores from the _scores_ dictionary above."
   ]
  },
  {
   "cell_type": "code",
   "execution_count": 108,
   "metadata": {},
   "outputs": [
    {
     "name": "stdout",
     "output_type": "stream",
     "text": [
      "Two highest scores in the class are 86 % and 83 %  thats not too great! Study harder class!\n"
     ]
    }
   ],
   "source": [
    "sorted_numbers = list(scores.items())\n",
    "sorted_numbers.sort(key=lambda x: x[1], reverse=True)\n",
    "\n",
    "print(\"Two highest scores in the class are\", sorted_scores[0][1], \"%\", \"and\", sorted_scores[1][1],\"%\", \" thats not too great! Study harder class!\")"
   ]
  },
  {
   "cell_type": "markdown",
   "metadata": {},
   "source": [
    "# Problem 5\n",
    "Finish the code below to covert the list _numbers_ into a dictionary.  The key should be the index of the list and the value is the value in the list.  Then print the contents of your new dictionary in the same format as __Problem 2__.  You cannot use the built-in __map__ function."
   ]
  },
  {
   "cell_type": "code",
   "execution_count": 134,
   "metadata": {},
   "outputs": [
    {
     "name": "stdout",
     "output_type": "stream",
     "text": [
      "0 : 97\n",
      "1 : 96\n",
      "2 : 45\n",
      "3 : 25\n",
      "4 : 48\n"
     ]
    }
   ],
   "source": [
    "numbers = [random.randint(1,100) for x in range(5)]\n",
    "my_dict = {}   \n",
    "for i in range(len(numbers)):\n",
    "    my_dict[i] = numbers[i]\n",
    "for key, value in my_dict.items():\n",
    "    print(\"{} : {}\".format(key,value))"
   ]
  },
  {
   "cell_type": "markdown",
   "metadata": {},
   "source": [
    "# Problem 6\n",
    "Finish the code below to print the values from the dictionary that occur only __once__. No points will be given for this problem if it is hard-coded."
   ]
  },
  {
   "cell_type": "code",
   "execution_count": 91,
   "metadata": {},
   "outputs": [
    {
     "name": "stdout",
     "output_type": "stream",
     "text": [
      "word: cat\n",
      "word: dog\n",
      "word: kitten\n",
      "word: cat\n",
      "word: tape\n",
      "word: robots\n",
      "word: tape\n",
      "Word that only occured once in the list-- dog\n",
      "Word that only occured once in the list-- kitten\n",
      "Word that only occured once in the list-- robots\n"
     ]
    }
   ],
   "source": [
    "words = {1: \"cat\", 2: \"dog\", 3: \"kitten\", 4: 'cat', 5: 'tape', 6: 'robots', 7: 'tape'}\n",
    "values = []\n",
    "for x in words.values():\n",
    "    \n",
    "    values.append(x)\n",
    "    print(\"word:\",x)\n",
    "for x in values:\n",
    "    if(values.count(x)==1):\n",
    "        print(\"Word that only occured once in the list--\", x)"
   ]
  },
  {
   "cell_type": "code",
   "execution_count": null,
   "metadata": {},
   "outputs": [],
   "source": []
  }
 ],
 "metadata": {
  "kernelspec": {
   "display_name": "Python 3 (ipykernel)",
   "language": "python",
   "name": "python3"
  },
  "language_info": {
   "codemirror_mode": {
    "name": "ipython",
    "version": 3
   },
   "file_extension": ".py",
   "mimetype": "text/x-python",
   "name": "python",
   "nbconvert_exporter": "python",
   "pygments_lexer": "ipython3",
   "version": "3.11.0"
  }
 },
 "nbformat": 4,
 "nbformat_minor": 4
}
